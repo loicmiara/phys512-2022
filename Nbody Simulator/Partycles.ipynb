{
 "cells": [
  {
   "cell_type": "code",
   "execution_count": 1,
   "metadata": {},
   "outputs": [],
   "source": [
    "import numpy as np \n",
    "import matplotlib.pyplot as plt\n",
    "import os\n",
    "import imageio\n",
    "from tqdm.notebook import tqdm\n",
    "import time\n",
    "plt.ion()\n",
    "%matplotlib notebook"
   ]
  },
  {
   "cell_type": "code",
   "execution_count": 163,
   "metadata": {},
   "outputs": [],
   "source": [
    "def get_kernel(n,r0):\n",
    "    x=np.fft.fftfreq(n)*n\n",
    "    rsqr=np.outer(np.ones(n),x**2)\n",
    "    rsqr=rsqr+rsqr.T\n",
    "    rsqr[rsqr<r0**2]=r0**2\n",
    "    kernel=rsqr**-0.5\n",
    "    return kernel\n",
    "\n",
    "\n",
    "class Particles:\n",
    "    def __init__(self,npart = 40000,n = 100,ndim = 2,periodic = True,soft = 1):\n",
    "        self.npart = npart\n",
    "        self.x = np.empty([npart,ndim])\n",
    "        self.v = np.empty([npart,ndim])\n",
    "        self.grad = np.empty([npart,ndim])\n",
    "        self.f = np.empty([npart,ndim])\n",
    "        self.ngrid=n\n",
    "        self.masses = np.ones(self.npart)\n",
    "        self.soft = soft\n",
    "        self.periodic = periodic\n",
    "        self.kernel = None\n",
    "        self.kernelft = None\n",
    "        self.init_xbounds = None\n",
    "        self.init_ybounds = None\n",
    "        self.timer = False\n",
    "        self.time_pot = []\n",
    "        self.time_forces = []\n",
    "        self.time_plot = []\n",
    "        \n",
    "        if periodic:\n",
    "            self.rho=np.empty([self.ngrid,self.ngrid])\n",
    "            self.pot=np.empty([self.ngrid,self.ngrid])\n",
    "        else:\n",
    "            self.rho=np.empty([2*self.ngrid,2*self.ngrid])\n",
    "            self.pot=np.empty([2*self.ngrid,2*self.ngrid])\n",
    "    def get_rho(self):\n",
    "        if self.periodic:\n",
    "            self.rho=np.histogram2d(self.x[:,0],self.x[:,1],bins = self.ngrid,range = ([np.min(self.x[:,0])\n",
    "                                                                            ,np.max(self.x[:,0])],[np.min(self.x[:,1])\n",
    "                                                                            ,np.max(self.x[:,1])]),weights = self.masses)[0]\n",
    "        else:\n",
    "            self.rho[self.ngrid//2:3*self.ngrid//2,self.ngrid//2:3*self.ngrid//2] = np.histogram2d(self.x[:,0],self.x[:,1]\n",
    "                                                                            ,bins = self.ngrid,range = ([np.min(self.x[:,0])\n",
    "                                                                            ,np.max(self.x[:,0])],[np.min(self.x[:,1])\n",
    "                                                                            ,np.max(self.x[:,1])]),weights = self.masses)[0]\n",
    "    \n",
    "    def IC_Gauss(self,n_blobs = 1,center_loc = [[0,0]],stds=[1,1]):\n",
    "        if n_blobs!=len(center_loc) or n_blobs!=len(center_loc):\n",
    "            print('Need to specify center and std of each blob')\n",
    "            \n",
    "        to_remove = self.npart%n_blobs\n",
    "        self.npart-=to_remove\n",
    "        parts_per_blob = self.npart//n_blobs\n",
    "        \n",
    "        for i in range(n_blobs):\n",
    "            self.x[i*parts_per_blob:(i+1)*parts_per_blob] = np.random.normal(center_loc[i],stds[i],np.shape(self.x[:parts_per_blob]))\n",
    "        \n",
    "        self.init_xbounds = [np.min(self.x[:,0]),np.max(self.x[:,0])]\n",
    "        self.init_ybounds = [np.min(self.x[:,1]),np.max(self.x[:,1])]\n",
    "        \n",
    "    def get_kernel(self):\n",
    "        if self.periodic:\n",
    "            self.kernel=get_kernel(self.ngrid,self.soft)\n",
    "        else:\n",
    "            self.kernel=get_kernel(2*self.ngrid,self.soft)\n",
    "        self.kernelft=np.fft.rfft2(self.kernel)\n",
    "        \n",
    "    def get_potential(self):\n",
    "        if self.timer:\n",
    "            t1 = time.time()\n",
    "        self.get_rho()\n",
    "        self.get_kernel()\n",
    "        rhoft = np.fft.rfft2(self.rho)\n",
    "        conv = np.fft.irfft2(self.kernelft*rhoft)\n",
    "        self.pot = conv\n",
    "        t2 = time.time()\n",
    "        if self.timer:\n",
    "            t2 = time.time()\n",
    "            self.time_pot.append(t2-t1)\n",
    "        \n",
    "    def get_forces(self):\n",
    "        if self.timer:\n",
    "            t1 = time.time()\n",
    "        gradx = 0.5*(np.roll(self.pot,1,0)-np.roll(self.pot,-1,0))\n",
    "        grady = 0.5*(np.roll(self.pot,1,1)-np.roll(self.pot,-1,1))\n",
    "        for i, xy in enumerate(self.x):\n",
    "            xgrid = int(self.ngrid*(xy[0]-np.min(self.x[:,0]))/np.ptp(self.x[:,0]))\n",
    "            if xgrid == self.ngrid:\n",
    "                xgrid-=1\n",
    "            ygrid = int(self.ngrid*(xy[1]-np.min(self.x[:,1]))/np.ptp(self.x[:,1]))\n",
    "            if ygrid == self.ngrid:\n",
    "                ygrid-=1\n",
    "            self.f[i] = [-gradx[xgrid,ygrid],-grady[xgrid,ygrid]]\n",
    "        if self.timer:\n",
    "            t2 = time.time()\n",
    "            self.time_forces.append(t2-t1)\n",
    "            \n",
    "    def take_step(self,dt=1):\n",
    "        self.x[:]=self.x[:]+dt*self.v\n",
    "        self.get_potential()\n",
    "        self.get_forces()\n",
    "        self.v[:]=self.v[:]+self.f*dt\n",
    "    \n",
    "    def plot_particles(self,density=False,savepath = ''):\n",
    "        if self.timer:\n",
    "            t1 = time.time()\n",
    "        if density:\n",
    "            plt.figure()\n",
    "            plt.imshow(np.rot90(self.rho),cmap = 'plasma')\n",
    "        else:\n",
    "            plt.figure()\n",
    "            plt.plot(self.x[:,0],self.x[:,1],'.')\n",
    "        if savepath !='':\n",
    "            plt.savefig(savepath)\n",
    "        if self.timer:\n",
    "            t2 = time.time()\n",
    "            self.time_plot.append(t2-t1)\n",
    "            \n",
    "    def timing_report(self):\n",
    "        avg_pot_time = np.mean(self.time_pot)\n",
    "        avg_f_time = np.mean(self.time_forces)\n",
    "        avg_plot_time = np.mean(self.time_plot)\n",
    "        \n",
    "        print('With {} particles and grid sidelength {}\\n'.format(self.npart,self.ngrid))\n",
    "        print('Average time to compute potential: {} s'.format(round(avg_pot_time,5)))\n",
    "        print('Average time to compute forces: {} s'.format(round(avg_f_time,5)))\n",
    "        print('Average time to plot: {} s'.format(round(avg_plot_time,5)))"
   ]
  },
  {
   "cell_type": "code",
   "execution_count": 182,
   "metadata": {},
   "outputs": [],
   "source": [
    "particles = Particles(npart = 2,n=100)"
   ]
  },
  {
   "cell_type": "code",
   "execution_count": 183,
   "metadata": {},
   "outputs": [],
   "source": [
    "particles.timer = True"
   ]
  },
  {
   "cell_type": "code",
   "execution_count": 184,
   "metadata": {
    "scrolled": false
   },
   "outputs": [],
   "source": [
    "# particles.IC_Gauss(5,np.random.randint(-5,5,size = (5,2)),[0.5,]*5)\n",
    "particles.IC_Gauss()\n",
    "# particles.x = np.random.uniform([-1,-1],[1,1],size = np.shape(particles.x))\n",
    "# particles.IC_box(bounds = [[-2,2],[-2,2]])\n",
    "# particles.x[len(particles.x)//2:] = np.random.normal([5,5],0.01,size = np.shape(particles.x[len(particles.x)//2:]))\n",
    "particles.v = np.zeros(np.shape(particles.v))\n",
    "particles.plot_particles()"
   ]
  },
  {
   "cell_type": "code",
   "execution_count": 185,
   "metadata": {
    "scrolled": false
   },
   "outputs": [],
   "source": [
    "particles.get_rho()\n",
    "particles.plot_particles(density=True)"
   ]
  },
  {
   "cell_type": "code",
   "execution_count": 186,
   "metadata": {},
   "outputs": [
    {
     "data": {
      "text/plain": [
       "<matplotlib.image.AxesImage at 0x1865ba507f0>"
      ]
     },
     "execution_count": 186,
     "metadata": {},
     "output_type": "execute_result"
    }
   ],
   "source": [
    "plt.figure()\n",
    "particles.get_potential()\n",
    "plt.imshow(np.rot90(particles.pot),cmap = 'plasma')"
   ]
  },
  {
   "cell_type": "code",
   "execution_count": 187,
   "metadata": {
    "scrolled": false
   },
   "outputs": [],
   "source": [
    "def make_animation(particles,niter,dt = 0.08):\n",
    "    plt.clf()\n",
    "    plt.ioff()\n",
    "    path = 'Figures/Animation_{}_particles_{}_iter/'.format(particles.npart,niter)\n",
    "    try:\n",
    "        os.mkdir(path)\n",
    "    except:\n",
    "        None\n",
    "        \n",
    "    particles.plot_particles(density = True,savepath =path+'%04d'%0 )\n",
    "    \n",
    "    for i in tqdm(range(niter)):\n",
    "        particles.take_step(dt = dt)\n",
    "        particles.plot_particles(density = True,savepath = path+'%04d'%i)\n",
    "        plt.close()\n",
    "    images = []\n",
    "    filenames = os.listdir(path)\n",
    "    for filename in filenames:\n",
    "        images.append(imageio.imread(path+filename))\n",
    "    imageio.mimsave(path+'{}_particles_{}_iter.gif'.format(particles.npart,niter), images)\n",
    "    plt.ion()"
   ]
  },
  {
   "cell_type": "code",
   "execution_count": 188,
   "metadata": {
    "scrolled": true
   },
   "outputs": [
    {
     "data": {
      "application/vnd.jupyter.widget-view+json": {
       "model_id": "5a3df0ff269343c4bb0278b614275c0b",
       "version_major": 2,
       "version_minor": 0
      },
      "text/plain": [
       "HBox(children=(FloatProgress(value=0.0), HTML(value='')))"
      ]
     },
     "metadata": {},
     "output_type": "display_data"
    },
    {
     "name": "stdout",
     "output_type": "stream",
     "text": [
      "\n"
     ]
    }
   ],
   "source": [
    "make_animation(particles,100,dt = 0.08)"
   ]
  },
  {
   "cell_type": "code",
   "execution_count": 189,
   "metadata": {},
   "outputs": [
    {
     "name": "stdout",
     "output_type": "stream",
     "text": [
      "With 2 particles and grid sidelength 100\n",
      "\n",
      "Average time to compute potential: 0.00172 s\n",
      "Average time to compute forces: 0.0003 s\n",
      "Average time to plot: 0.06181 s\n"
     ]
    }
   ],
   "source": [
    "particles.timing_report()"
   ]
  },
  {
   "cell_type": "code",
   "execution_count": null,
   "metadata": {},
   "outputs": [],
   "source": []
  }
 ],
 "metadata": {
  "kernelspec": {
   "display_name": "Python 3",
   "language": "python",
   "name": "python3"
  },
  "language_info": {
   "codemirror_mode": {
    "name": "ipython",
    "version": 3
   },
   "file_extension": ".py",
   "mimetype": "text/x-python",
   "name": "python",
   "nbconvert_exporter": "python",
   "pygments_lexer": "ipython3",
   "version": "3.8.3"
  }
 },
 "nbformat": 4,
 "nbformat_minor": 4
}
